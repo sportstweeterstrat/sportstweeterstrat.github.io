{
 "cells": [
  {
   "cell_type": "code",
   "execution_count": 1,
   "metadata": {},
   "outputs": [],
   "source": [
    "import firebase_admin"
   ]
  },
  {
   "cell_type": "code",
   "execution_count": 5,
   "metadata": {},
   "outputs": [],
   "source": [
    "cert = firebase_admin.credentials.Certificate(\"sports-tweeter-strat-c141d-firebase-adminsdk-ci2eq-3c60f98ce1.json\")\n"
   ]
  },
  {
   "cell_type": "code",
   "execution_count": 7,
   "metadata": {},
   "outputs": [
    {
     "ename": "NameError",
     "evalue": "name 'cred_object' is not defined",
     "output_type": "error",
     "traceback": [
      "\u001b[0;31m---------------------------------------------------------------------------\u001b[0m",
      "\u001b[0;31mNameError\u001b[0m                                 Traceback (most recent call last)",
      "\u001b[0;32m<ipython-input-7-50e84e57e7dc>\u001b[0m in \u001b[0;36m<module>\u001b[0;34m\u001b[0m\n\u001b[0;32m----> 1\u001b[0;31m \u001b[0mdefault_app\u001b[0m \u001b[0;34m=\u001b[0m \u001b[0mfirebase_admin\u001b[0m\u001b[0;34m.\u001b[0m\u001b[0minitialize_app\u001b[0m\u001b[0;34m(\u001b[0m\u001b[0mcred_object\u001b[0m\u001b[0;34m,\u001b[0m \u001b[0;34m{\u001b[0m\u001b[0;34m'databaseURL'\u001b[0m\u001b[0;34m:\u001b[0m\u001b[0;34m\"https://sports-tweeter-strat-c141d-default-rtdb.firebaseio.com/\"\u001b[0m\u001b[0;34m}\u001b[0m\u001b[0;34m)\u001b[0m\u001b[0;34m\u001b[0m\u001b[0;34m\u001b[0m\u001b[0m\n\u001b[0m",
      "\u001b[0;31mNameError\u001b[0m: name 'cred_object' is not defined"
     ]
    }
   ],
   "source": [
    "default_app = firebase_admin.initialize_app(cred_object, {'databaseURL':\"https://sports-tweeter-strat-c141d-default-rtdb.firebaseio.com/\"})"
   ]
  },
  {
   "cell_type": "code",
   "execution_count": null,
   "metadata": {},
   "outputs": [],
   "source": []
  }
 ],
 "metadata": {
  "kernelspec": {
   "display_name": "Python 3",
   "language": "python",
   "name": "python3"
  },
  "language_info": {
   "codemirror_mode": {
    "name": "ipython",
    "version": 3
   },
   "file_extension": ".py",
   "mimetype": "text/x-python",
   "name": "python",
   "nbconvert_exporter": "python",
   "pygments_lexer": "ipython3",
   "version": "3.9.1"
  }
 },
 "nbformat": 4,
 "nbformat_minor": 4
}
